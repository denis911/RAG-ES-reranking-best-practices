{
 "cells": [
  {
   "cell_type": "markdown",
   "id": "169c9c68-78e1-4c72-840e-ad72d2b219ff",
   "metadata": {},
   "source": [
    "## Initial setup"
   ]
  },
  {
   "cell_type": "code",
   "execution_count": 3,
   "id": "1062943d-37ae-47c8-886c-d3fd007834c9",
   "metadata": {},
   "outputs": [],
   "source": [
    "#!pip install tqdm --q # in case it is not installed in VS code"
   ]
  },
  {
   "cell_type": "code",
   "execution_count": 4,
   "id": "5737aa56-1fa2-420d-8780-6158892665b7",
   "metadata": {},
   "outputs": [],
   "source": [
    "#!pip install ipywidgets --q "
   ]
  },
  {
   "cell_type": "code",
   "execution_count": 5,
   "id": "a35574c9-e431-4627-9589-366032190783",
   "metadata": {},
   "outputs": [],
   "source": [
    "import json\n",
    "import pandas as pd\n",
    "from tqdm.auto import tqdm\n",
    "from sentence_transformers import SentenceTransformer\n",
    "from elasticsearch import Elasticsearch"
   ]
  },
  {
   "cell_type": "code",
   "execution_count": 6,
   "id": "6a7d22da-03ad-412d-87da-fc60116e469c",
   "metadata": {},
   "outputs": [],
   "source": [
    "# We should pull and run a docker container with Elasticsearch 8.9.0 or higher in order to use reranking based on RRF algorithm\n",
    "# run in VS code terminal:\n",
    "'''\n",
    "docker run -it \\\n",
    "    --rm \\\n",
    "    --name elasticsearch \\\n",
    "    -m 4GB \\\n",
    "    -p 9200:9200 \\\n",
    "    -p 9300:9300 \\\n",
    "    -e \"discovery.type=single-node\" \\\n",
    "    -e \"xpack.security.enabled=false\" \\\n",
    "    docker.elastic.co/elasticsearch/elasticsearch:8.17.6\n",
    "''';"
   ]
  },
  {
   "cell_type": "code",
   "execution_count": 7,
   "id": "5c910adf-2917-4b4e-9a60-39635d861ea0",
   "metadata": {},
   "outputs": [],
   "source": [
    "# build our documents list from json-preparsed FAG\n",
    "# !wget https://raw.githubusercontent.com/DataTalksClub/llm-zoomcamp/refs/heads/main/05-best-practices/documents-with-ids.json\n",
    "# here we need to get the link to a raw file, otherwise it will download HTML only\n",
    "\n",
    "with open('documents-with-ids.json', 'rt') as f_in:\n",
    "    documents = json.load(f_in)"
   ]
  },
  {
   "cell_type": "code",
   "execution_count": 8,
   "id": "f0bdf5c6-5f97-47ff-9a8f-b1a4bb02a1a7",
   "metadata": {},
   "outputs": [
    {
     "data": {
      "text/plain": [
       "{'text': \"The purpose of this document is to capture frequently asked technical questions\\nThe exact day and hour of the course will be 15th Jan 2024 at 17h00. The course will start with the first  “Office Hours'' live.1\\nSubscribe to course public Google Calendar (it works from Desktop only).\\nRegister before the course starts using this link.\\nJoin the course Telegram channel with announcements.\\nDon’t forget to register in DataTalks.Club's Slack and join the channel.\",\n",
       " 'section': 'General course-related questions',\n",
       " 'question': 'Course - When will the course start?',\n",
       " 'course': 'data-engineering-zoomcamp',\n",
       " 'id': 'c02e79ef'}"
      ]
     },
     "execution_count": 8,
     "metadata": {},
     "output_type": "execute_result"
    }
   ],
   "source": [
    "documents[0]"
   ]
  },
  {
   "cell_type": "code",
   "execution_count": 9,
   "id": "32c67431-7bb7-46e2-8974-d82c774e71ad",
   "metadata": {},
   "outputs": [
    {
     "data": {
      "text/plain": [
       "SentenceTransformer(\n",
       "  (0): Transformer({'max_seq_length': 512, 'do_lower_case': False, 'architecture': 'BertModel'})\n",
       "  (1): Pooling({'word_embedding_dimension': 384, 'pooling_mode_cls_token': False, 'pooling_mode_mean_tokens': True, 'pooling_mode_max_tokens': False, 'pooling_mode_mean_sqrt_len_tokens': False, 'pooling_mode_weightedmean_tokens': False, 'pooling_mode_lasttoken': False, 'include_prompt': True})\n",
       "  (2): Normalize()\n",
       ")"
      ]
     },
     "execution_count": 9,
     "metadata": {},
     "output_type": "execute_result"
    }
   ],
   "source": [
    "# get our model for embeddings\n",
    "\n",
    "model_name = 'multi-qa-MiniLM-L6-cos-v1'\n",
    "model = SentenceTransformer(model_name)\n",
    "model #  'architecture': 'BertModel','word_embedding_dimension': 384 - this is our vector size"
   ]
  },
  {
   "cell_type": "markdown",
   "id": "410e58c8-c289-46f9-a5be-f10096753622",
   "metadata": {},
   "source": [
    "## Indexing stage"
   ]
  },
  {
   "cell_type": "code",
   "execution_count": 10,
   "id": "335f7846-384e-455f-951f-677ea3f56bd0",
   "metadata": {},
   "outputs": [
    {
     "data": {
      "application/vnd.jupyter.widget-view+json": {
       "model_id": "0e6d43457a92430a8cb4a6821a14efdf",
       "version_major": 2,
       "version_minor": 0
      },
      "text/plain": [
       "  0%|          | 0/948 [00:00<?, ?it/s]"
      ]
     },
     "metadata": {},
     "output_type": "display_data"
    }
   ],
   "source": [
    "# prepare embeddings for question, answer and both q+a and add to documents - takes 2-3 min or so....\n",
    "\n",
    "for doc in tqdm(documents):\n",
    "    question = doc['question']\n",
    "    text = doc['text']\n",
    "    qt = question + ' ' + text\n",
    "\n",
    "    doc['question_vector'] = model.encode(question)\n",
    "    doc['text_vector'] = model.encode(text)\n",
    "    doc['question_text_vector'] = model.encode(qt)"
   ]
  },
  {
   "cell_type": "code",
   "execution_count": 12,
   "id": "f46efb23-87f7-4451-9f0b-3e4995bf1ec7",
   "metadata": {},
   "outputs": [],
   "source": [
    "# documents[0] # to see vectors added"
   ]
  },
  {
   "cell_type": "code",
   "execution_count": 13,
   "id": "37467e38-3e62-44cd-80ce-e5538a71baa1",
   "metadata": {},
   "outputs": [
    {
     "data": {
      "text/plain": [
       "ObjectApiResponse({'acknowledged': True, 'shards_acknowledged': True, 'index': 'course-questions'})"
      ]
     },
     "execution_count": 13,
     "metadata": {},
     "output_type": "execute_result"
    }
   ],
   "source": [
    "# define ES index fields - ES in docker may take some time to start...\n",
    "\n",
    "es_client = Elasticsearch('http://localhost:9200') \n",
    "\n",
    "index_settings = {\n",
    "    \"settings\": {\n",
    "        \"number_of_shards\": 1,\n",
    "        \"number_of_replicas\": 0\n",
    "    },\n",
    "    \"mappings\": {\n",
    "        \"properties\": {\n",
    "            \"text\": {\"type\": \"text\"},\n",
    "            \"section\": {\"type\": \"text\"},\n",
    "            \"question\": {\"type\": \"text\"},\n",
    "            \"course\": {\"type\": \"keyword\"},\n",
    "            \"id\": {\"type\": \"keyword\"},\n",
    "            \"question_vector\": {\n",
    "                \"type\": \"dense_vector\",\n",
    "                \"dims\": 384,\n",
    "                \"index\": True,\n",
    "                \"similarity\": \"cosine\"\n",
    "            },\n",
    "            \"text_vector\": {\n",
    "                \"type\": \"dense_vector\",\n",
    "                \"dims\": 384,\n",
    "                \"index\": True,\n",
    "                \"similarity\": \"cosine\"\n",
    "            },\n",
    "            \"question_text_vector\": {\n",
    "                \"type\": \"dense_vector\",\n",
    "                \"dims\": 384,\n",
    "                \"index\": True,\n",
    "                \"similarity\": \"cosine\"\n",
    "            },\n",
    "        }\n",
    "    }\n",
    "}\n",
    "\n",
    "index_name = \"course-questions\"\n",
    "\n",
    "es_client.indices.delete(index=index_name, ignore_unavailable=True)\n",
    "es_client.indices.create(index=index_name, body=index_settings)\n"
   ]
  },
  {
   "cell_type": "code",
   "execution_count": 14,
   "id": "e72c9b3c-0f55-4125-b28d-cf0e68396c98",
   "metadata": {},
   "outputs": [
    {
     "data": {
      "application/vnd.jupyter.widget-view+json": {
       "model_id": "6c33ad55e26b472a96d3b00b8c0d86f5",
       "version_major": 2,
       "version_minor": 0
      },
      "text/plain": [
       "  0%|          | 0/948 [00:00<?, ?it/s]"
      ]
     },
     "metadata": {},
     "output_type": "display_data"
    }
   ],
   "source": [
    "# finally create ES index\n",
    "\n",
    "for doc in tqdm(documents):\n",
    "    es_client.index(index=index_name, document=doc)"
   ]
  },
  {
   "cell_type": "markdown",
   "id": "61d2a315-284b-4d79-819d-d07b74e91b29",
   "metadata": {},
   "source": [
    "## Retrieval stage"
   ]
  },
  {
   "cell_type": "code",
   "execution_count": 18,
   "id": "a1c5b480-e9fe-4d79-98c7-a9dafdd0b5ca",
   "metadata": {},
   "outputs": [],
   "source": [
    "#!pip install langchain --q"
   ]
  },
  {
   "cell_type": "code",
   "execution_count": 20,
   "id": "b051b3f7-a4e1-4082-9bec-841ed1b1650a",
   "metadata": {},
   "outputs": [],
   "source": [
    "#!pip install langchain_elasticsearch --q"
   ]
  },
  {
   "cell_type": "code",
   "execution_count": 23,
   "id": "d0e4559e-de1c-4e46-acb5-87005959c8f9",
   "metadata": {},
   "outputs": [],
   "source": [
    "#!pip install langchain-community --q"
   ]
  },
  {
   "cell_type": "code",
   "execution_count": 24,
   "id": "90541b91-05cf-4e58-a78f-5493a908c8b4",
   "metadata": {},
   "outputs": [],
   "source": [
    "# Retrieval stage\n",
    "\n",
    "from langchain.embeddings import SentenceTransformerEmbeddings\n",
    "from typing import Dict\n",
    "from langchain_elasticsearch import ElasticsearchRetriever"
   ]
  },
  {
   "cell_type": "code",
   "execution_count": 25,
   "id": "4aded5ae-7d26-4f1b-9087-fc71918e90a6",
   "metadata": {},
   "outputs": [],
   "source": [
    "# our elasticsearch instance link\n",
    "es_url = 'http://localhost:9200'"
   ]
  },
  {
   "cell_type": "code",
   "execution_count": 26,
   "id": "4b200688-19e9-4a74-b683-b944e001b5a4",
   "metadata": {},
   "outputs": [],
   "source": [
    "query = 'I just discovered the course. Can I still join it?'\n",
    "course = \"data-engineering-zoomcamp\""
   ]
  },
  {
   "cell_type": "code",
   "execution_count": 27,
   "id": "9d6c119b-e1ad-4a8e-810c-062bc6d4dde8",
   "metadata": {},
   "outputs": [
    {
     "name": "stderr",
     "output_type": "stream",
     "text": [
      "/tmp/ipykernel_3763/1657402097.py:2: LangChainDeprecationWarning: The class `HuggingFaceEmbeddings` was deprecated in LangChain 0.2.2 and will be removed in 1.0. An updated version of the class exists in the :class:`~langchain-huggingface package and should be used instead. To use it run `pip install -U :class:`~langchain-huggingface` and import as `from :class:`~langchain_huggingface import HuggingFaceEmbeddings``.\n",
      "  embeddings = SentenceTransformerEmbeddings(model_name=\"sentence-transformers/multi-qa-MiniLM-L6-cos-v1\")\n"
     ]
    }
   ],
   "source": [
    "# create embedding vector for our query\n",
    "embeddings = SentenceTransformerEmbeddings(model_name=\"sentence-transformers/multi-qa-MiniLM-L6-cos-v1\")\n"
   ]
  },
  {
   "cell_type": "code",
   "execution_count": 29,
   "id": "97763f53-03d8-447b-890a-eae41470614d",
   "metadata": {},
   "outputs": [],
   "source": [
    "# why do we need to return such complex json? I guess to feed to our ES instance...\n",
    "# hybrid query takes both text and vector embedding of the question and performs keyword and vector search\n",
    "\n",
    "def hybrid_query(search_query: str) -> Dict:\n",
    "    vector = embeddings.embed_query(search_query)  # same embeddings as for indexing\n",
    "    return {\n",
    "        \"query\": {\n",
    "            \"bool\": {\n",
    "                \"must\": {\n",
    "                    \"multi_match\": {\n",
    "                        \"query\": search_query,\n",
    "                        \"fields\": [\"question\", \"text\", \"section\"],\n",
    "                        \"type\": \"best_fields\",\n",
    "                        \"boost\": 0.5,\n",
    "                    }\n",
    "                },\n",
    "                \"filter\": {\n",
    "                    \"term\": {\n",
    "                        \"course\": course\n",
    "                    }\n",
    "                }\n",
    "            }\n",
    "        },\n",
    "        \"knn\": {\n",
    "            \"field\": \"question_text_vector\",\n",
    "            \"query_vector\": vector,\n",
    "            \"k\": 5,\n",
    "            \"num_candidates\": 10000,\n",
    "            \"boost\": 0.5,\n",
    "            \"filter\": {\n",
    "                \"term\": {\n",
    "                    \"course\": course\n",
    "                }\n",
    "            }\n",
    "        },\n",
    "        \"size\": 5,\n",
    "        # \"rank\": {\"rrf\": {}},\n",
    "    }\n",
    "\n",
    "\n",
    "hybrid_retriever = ElasticsearchRetriever.from_es_params(\n",
    "    index_name=index_name,\n",
    "    body_func=hybrid_query,\n",
    "    content_field='text',\n",
    "    url=es_url,\n",
    ")\n"
   ]
  },
  {
   "cell_type": "code",
   "execution_count": 30,
   "id": "b653153d-03bf-4407-9045-f42fc7ee9cc8",
   "metadata": {},
   "outputs": [],
   "source": [
    "# now lets search our index\n",
    "hybrid_results = hybrid_retriever.invoke(query)"
   ]
  },
  {
   "cell_type": "code",
   "execution_count": 32,
   "id": "7e854bd0-9cac-4593-8ab2-3a6b2349c064",
   "metadata": {},
   "outputs": [
    {
     "name": "stdout",
     "output_type": "stream",
     "text": [
      "Course - Can I still join the course after the start date? data-engineering-zoomcamp 12.559774\n",
      "Course - Can I follow the course after it finishes? data-engineering-zoomcamp 9.399914\n",
      "Course - What can I do before the course starts? data-engineering-zoomcamp 7.306914\n",
      "Course - Can I get support if I take the course in the self-paced mode? data-engineering-zoomcamp 7.1085525\n",
      "Course - When will the course start? data-engineering-zoomcamp 6.75216\n"
     ]
    }
   ],
   "source": [
    "# and parse the search results json\n",
    "# original query was query = 'I just discovered the course. Can I still join it?'\n",
    "# and course filter was course = \"data-engineering-zoomcamp\"\n",
    "\n",
    "for result in hybrid_results:\n",
    "    print(result.metadata['_source']['question'], result.metadata['_source']['course'], result.metadata['_score'])\n",
    "\n",
    "# best match looks good and score is good too:\n",
    "# Course - Can I still join the course after the start date? data-engineering-zoomcamp 12.559774"
   ]
  },
  {
   "cell_type": "markdown",
   "id": "706be3c6-fddb-4d56-8a6d-b3b6b591470f",
   "metadata": {},
   "source": [
    "## Hybrid search and measuring against ground truth"
   ]
  },
  {
   "cell_type": "code",
   "execution_count": null,
   "id": "1292553c-74ff-40d6-8a6d-75a1913c71df",
   "metadata": {},
   "outputs": [],
   "source": []
  }
 ],
 "metadata": {
  "kernelspec": {
   "display_name": "Python 3 (ipykernel)",
   "language": "python",
   "name": "python3"
  },
  "language_info": {
   "codemirror_mode": {
    "name": "ipython",
    "version": 3
   },
   "file_extension": ".py",
   "mimetype": "text/x-python",
   "name": "python",
   "nbconvert_exporter": "python",
   "pygments_lexer": "ipython3",
   "version": "3.12.1"
  }
 },
 "nbformat": 4,
 "nbformat_minor": 5
}
