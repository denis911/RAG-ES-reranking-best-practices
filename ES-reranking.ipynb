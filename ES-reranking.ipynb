{
 "cells": [
  {
   "cell_type": "markdown",
   "id": "8d5e5dd1-5848-4f9b-976e-4abb4b41ec08",
   "metadata": {
    "vscode": {
     "languageId": "plaintext"
    }
   },
   "source": [
    "## Initial setup"
   ]
  },
  {
   "cell_type": "markdown",
   "id": "ecce5ebc-34aa-4e76-8891-b5b05abcec3d",
   "metadata": {},
   "source": [
    "source is https://github.com/DataTalksClub/llm-zoomcamp/tree/main/05-best-practices"
   ]
  },
  {
   "cell_type": "code",
   "execution_count": 1,
   "id": "3b8dcad4-ecc1-4d6a-ac8c-e82fc7ee1931",
   "metadata": {},
   "outputs": [],
   "source": [
    "# We should pull and run a docker container with Elasticsearch 8.9.0 or higher in order to use reranking based on RRF algorithm\n",
    "# run in VS code terminal:\n",
    "'''\n",
    "docker run -it \\\n",
    "    --rm \\\n",
    "    --name elasticsearch \\\n",
    "    -m 4GB \\\n",
    "    -p 9200:9200 \\\n",
    "    -p 9300:9300 \\\n",
    "    -e \"discovery.type=single-node\" \\\n",
    "    -e \"xpack.security.enabled=false\" \\\n",
    "    docker.elastic.co/elasticsearch/elasticsearch:8.17.6\n",
    "''';"
   ]
  },
  {
   "cell_type": "code",
   "execution_count": 2,
   "id": "b91dc37d-7752-4c05-b45c-440d9295feca",
   "metadata": {},
   "outputs": [
    {
     "name": "stdout",
     "output_type": "stream",
     "text": [
      "Note: you may need to restart the kernel to use updated packages.\n"
     ]
    }
   ],
   "source": [
    "%pip install sentence_transformers elasticsearch===8.17.0  --q"
   ]
  },
  {
   "cell_type": "code",
   "execution_count": 3,
   "id": "0a8387a7-23b6-4cae-a536-5193dae5ddc0",
   "metadata": {},
   "outputs": [],
   "source": [
    "!pip install tqdm --q"
   ]
  },
  {
   "cell_type": "code",
   "execution_count": 4,
   "id": "5fdc7d72-5113-4b62-baff-358b5911c7cf",
   "metadata": {},
   "outputs": [],
   "source": [
    "!pip install ipywidgets --q"
   ]
  },
  {
   "cell_type": "code",
   "execution_count": 5,
   "id": "ebc06213-554c-449f-92d3-f64a3b2c533a",
   "metadata": {},
   "outputs": [],
   "source": [
    "import json\n",
    "import pandas as pd\n",
    "from tqdm.auto import tqdm\n",
    "# from tqdm.notebook import tqdm\n",
    "from sentence_transformers import SentenceTransformer\n",
    "from elasticsearch import Elasticsearch"
   ]
  },
  {
   "cell_type": "code",
   "execution_count": 6,
   "id": "148a6061-5309-4657-acc0-a00fb3e20eaa",
   "metadata": {},
   "outputs": [],
   "source": [
    "# !wget https://raw.githubusercontent.com/DataTalksClub/llm-zoomcamp/refs/heads/main/05-best-practices/documents-with-ids.json\n",
    "# here we need to get the link to a raw file, otherwise it will download HTML only"
   ]
  },
  {
   "cell_type": "code",
   "execution_count": 7,
   "id": "efe7e028-2ddd-4166-999a-df32d102e9da",
   "metadata": {},
   "outputs": [],
   "source": [
    "with open('documents-with-ids.json', 'rt') as f_in:\n",
    "    documents = json.load(f_in)"
   ]
  },
  {
   "cell_type": "code",
   "execution_count": 8,
   "id": "e2ab8fda-0b1e-44dc-bf95-7e0900f452e2",
   "metadata": {},
   "outputs": [
    {
     "data": {
      "text/plain": [
       "{'text': \"The purpose of this document is to capture frequently asked technical questions\\nThe exact day and hour of the course will be 15th Jan 2024 at 17h00. The course will start with the first  “Office Hours'' live.1\\nSubscribe to course public Google Calendar (it works from Desktop only).\\nRegister before the course starts using this link.\\nJoin the course Telegram channel with announcements.\\nDon’t forget to register in DataTalks.Club's Slack and join the channel.\",\n",
       " 'section': 'General course-related questions',\n",
       " 'question': 'Course - When will the course start?',\n",
       " 'course': 'data-engineering-zoomcamp',\n",
       " 'id': 'c02e79ef'}"
      ]
     },
     "execution_count": 8,
     "metadata": {},
     "output_type": "execute_result"
    }
   ],
   "source": [
    "documents[0] # we downloaded FAQ document pre-parsed and stored as json"
   ]
  },
  {
   "cell_type": "code",
   "execution_count": 9,
   "id": "cd4a9216-e6bf-4930-8fe8-5a34de5ba060",
   "metadata": {},
   "outputs": [
    {
     "data": {
      "text/plain": [
       "SentenceTransformer(\n",
       "  (0): Transformer({'max_seq_length': 512, 'do_lower_case': False, 'architecture': 'BertModel'})\n",
       "  (1): Pooling({'word_embedding_dimension': 384, 'pooling_mode_cls_token': False, 'pooling_mode_mean_tokens': True, 'pooling_mode_max_tokens': False, 'pooling_mode_mean_sqrt_len_tokens': False, 'pooling_mode_weightedmean_tokens': False, 'pooling_mode_lasttoken': False, 'include_prompt': True})\n",
       "  (2): Normalize()\n",
       ")"
      ]
     },
     "execution_count": 9,
     "metadata": {},
     "output_type": "execute_result"
    }
   ],
   "source": [
    "model_name = 'multi-qa-MiniLM-L6-cos-v1'\n",
    "model = SentenceTransformer(model_name)\n",
    "model \n",
    "# Transformer({'max_seq_length': 512, 'do_lower_case': False, 'architecture': 'BertModel'})\n",
    "# Pooling({'word_embedding_dimension': 384 ..."
   ]
  },
  {
   "cell_type": "markdown",
   "id": "3aa8709b-5d74-479b-8716-303b8fa65141",
   "metadata": {},
   "source": [
    "## Encode text and question vectors and create ES index"
   ]
  },
  {
   "cell_type": "code",
   "execution_count": 10,
   "id": "145fed03-65ec-4dc0-a7a4-54d80dd7d36f",
   "metadata": {},
   "outputs": [
    {
     "data": {
      "application/vnd.jupyter.widget-view+json": {
       "model_id": "b962d2047b614022aedd0aaaa4769b5f",
       "version_major": 2,
       "version_minor": 0
      },
      "text/plain": [
       "  0%|          | 0/948 [00:00<?, ?it/s]"
      ]
     },
     "metadata": {},
     "output_type": "display_data"
    }
   ],
   "source": [
    "# we would need question, text and qt - both question and text vectors for similarity search\n",
    "\n",
    "for doc in tqdm(documents):\n",
    "    question = doc['question']\n",
    "    text = doc['text']\n",
    "    qt = question + ' ' + text\n",
    "\n",
    "    doc['question_vector'] = model.encode(question)\n",
    "    doc['text_vector'] = model.encode(text)\n",
    "    doc['question_text_vector'] = model.encode(qt)"
   ]
  },
  {
   "cell_type": "code",
   "execution_count": 11,
   "id": "095728b8-b429-4918-954a-6c1ac195357a",
   "metadata": {},
   "outputs": [],
   "source": [
    "#documents[0] # to see our vectors added\n"
   ]
  },
  {
   "cell_type": "code",
   "execution_count": 12,
   "id": "ae5a04b7-02c3-4df1-9cab-a389d25c8103",
   "metadata": {},
   "outputs": [
    {
     "name": "stdout",
     "output_type": "stream",
     "text": [
      "{'name': 'b5c29c66594e', 'cluster_name': 'docker-cluster', 'cluster_uuid': 'SvluaMxJQaKB0_I9CDSv7w', 'version': {'number': '8.17.6', 'build_flavor': 'default', 'build_type': 'docker', 'build_hash': 'dbcbbbd0bc4924cfeb28929dc05d82d662c527b7', 'build_date': '2025-04-30T14:07:12.231372970Z', 'build_snapshot': False, 'lucene_version': '9.12.0', 'minimum_wire_compatibility_version': '7.17.0', 'minimum_index_compatibility_version': '7.0.0'}, 'tagline': 'You Know, for Search'}\n"
     ]
    }
   ],
   "source": [
    "# connecting to Elasticsearch running in docker container\n",
    "\n",
    "# es_client = Elasticsearch('http://localhost:9200') \n",
    "# es_client # this does not work - requires ES 9 headers....\n",
    "\n",
    "# Connect with compatibility headers for ES 8.x\n",
    "from elasticsearch import Elasticsearch\n",
    "\n",
    "es_client = Elasticsearch(\n",
    "    [\"http://localhost:9200\"],\n",
    "    # Force ES 8 compatibility\n",
    "    headers={\n",
    "        \"Accept\": \"application/vnd.elasticsearch+json; compatible-with=8\",\n",
    "        \"Content-Type\": \"application/json\"\n",
    "    }\n",
    ")\n",
    "\n",
    "print(es_client.info())\n",
    "# it gave an error earlier due to version 8 incompatibility..."
   ]
  },
  {
   "cell_type": "code",
   "execution_count": 13,
   "id": "61733369-2a10-4847-9f06-0b09919ff8fa",
   "metadata": {
    "scrolled": true
   },
   "outputs": [
    {
     "data": {
      "text/plain": [
       "ObjectApiResponse({'acknowledged': True, 'shards_acknowledged': True, 'index': 'course-questions'})"
      ]
     },
     "execution_count": 13,
     "metadata": {},
     "output_type": "execute_result"
    }
   ],
   "source": [
    "# create elasticsearch index\n",
    "\n",
    "index_settings = {\n",
    "    \"settings\": {\n",
    "        \"number_of_shards\": 1,\n",
    "        \"number_of_replicas\": 0\n",
    "    },\n",
    "    \"mappings\": {\n",
    "        \"properties\": {\n",
    "            \"text\": {\"type\": \"text\"},\n",
    "            \"section\": {\"type\": \"text\"},\n",
    "            \"question\": {\"type\": \"text\"},\n",
    "            \"course\": {\"type\": \"keyword\"},\n",
    "            \"id\": {\"type\": \"keyword\"},\n",
    "            \"question_vector\": {\n",
    "                \"type\": \"dense_vector\",\n",
    "                \"dims\": 384,\n",
    "                \"index\": True,\n",
    "                \"similarity\": \"cosine\"\n",
    "            },\n",
    "            \"text_vector\": {\n",
    "                \"type\": \"dense_vector\",\n",
    "                \"dims\": 384,\n",
    "                \"index\": True,\n",
    "                \"similarity\": \"cosine\"\n",
    "            },\n",
    "            \"question_text_vector\": {\n",
    "                \"type\": \"dense_vector\",\n",
    "                \"dims\": 384,\n",
    "                \"index\": True,\n",
    "                \"similarity\": \"cosine\"\n",
    "            }\n",
    "        }\n",
    "    }\n",
    "}\n",
    "\n",
    "index_name = \"course-questions\"\n",
    "\n",
    "es_client.indices.delete(index=index_name, ignore_unavailable=True)\n",
    "es_client.indices.create(index=index_name, body=index_settings)"
   ]
  },
  {
   "cell_type": "code",
   "execution_count": 14,
   "id": "a8c6d3a4-5851-498e-8da9-9456eceadf25",
   "metadata": {},
   "outputs": [
    {
     "data": {
      "application/vnd.jupyter.widget-view+json": {
       "model_id": "3b6b61421f334a43a2044eaa0826a98f",
       "version_major": 2,
       "version_minor": 0
      },
      "text/plain": [
       "  0%|          | 0/948 [00:00<?, ?it/s]"
      ]
     },
     "metadata": {},
     "output_type": "display_data"
    }
   ],
   "source": [
    "for doc in tqdm(documents):\n",
    "    es_client.index(index=index_name, document=doc)"
   ]
  },
  {
   "cell_type": "markdown",
   "id": "26e68ed2-9830-4a14-a08f-a2d80888162f",
   "metadata": {},
   "source": [
    "## Hybrid search example"
   ]
  },
  {
   "cell_type": "code",
   "execution_count": 15,
   "id": "9b657f99-efc6-4c29-a3a8-95a766928f5b",
   "metadata": {},
   "outputs": [],
   "source": [
    "course = \"data-engineering-zoomcamp\""
   ]
  },
  {
   "cell_type": "code",
   "execution_count": 16,
   "id": "231452d5-dfc7-4a1a-95e8-42db3cb697df",
   "metadata": {},
   "outputs": [],
   "source": [
    "query = 'I just discovered the course. Can I still join it?'"
   ]
  },
  {
   "cell_type": "code",
   "execution_count": 22,
   "id": "a5f119bb-10f3-4807-93cf-c8c8a9920469",
   "metadata": {},
   "outputs": [],
   "source": [
    "v_q = model.encode(query)"
   ]
  },
  {
   "cell_type": "code",
   "execution_count": 19,
   "id": "85feb137-4c5a-414b-909b-5f4e0b8a2fe0",
   "metadata": {},
   "outputs": [],
   "source": [
    "knn_query = {\n",
    "    \"field\": \"text_vector\",\n",
    "    \"query_vector\": v_q,\n",
    "    \"k\": 5,\n",
    "    \"num_candidates\": 10000,\n",
    "    \"boost\": 0.5,\n",
    "    \"filter\": {\n",
    "        \"term\": {\n",
    "            \"course\": course\n",
    "        }\n",
    "    }\n",
    "}"
   ]
  },
  {
   "cell_type": "code",
   "execution_count": 20,
   "id": "fda38c00-ebaf-4be8-870d-560003b4cb9d",
   "metadata": {},
   "outputs": [],
   "source": [
    "keyword_query = {\n",
    "    \"bool\": {\n",
    "        \"must\": {\n",
    "            \"multi_match\": {\n",
    "                \"query\": query,\n",
    "                \"fields\": [\"question^3\", \"text\", \"section\"],\n",
    "                \"type\": \"best_fields\",\n",
    "                \"boost\": 0.5,\n",
    "            }\n",
    "        },\n",
    "        \"filter\": {\n",
    "            \"term\": {\n",
    "                \"course\": course\n",
    "            }\n",
    "        }\n",
    "    }\n",
    "}"
   ]
  },
  {
   "cell_type": "code",
   "execution_count": 23,
   "id": "aa25f211-cfe9-47ba-949b-5566b5457bdc",
   "metadata": {},
   "outputs": [],
   "source": [
    "response = es_client.search(\n",
    "    index=index_name,\n",
    "    query=keyword_query,\n",
    "    knn=knn_query,\n",
    "    size=5\n",
    ")"
   ]
  },
  {
   "cell_type": "code",
   "execution_count": 25,
   "id": "619ac60f-7a0c-4249-86dc-2eb5e78022ca",
   "metadata": {},
   "outputs": [],
   "source": [
    "# response[\"hits\"][\"hits\"]\n",
    "# '_score': 36.424633,\n",
    "#   '_source': {'text': \"Yes, even if you don't register, you're still eligible to submit the homeworks"
   ]
  },
  {
   "cell_type": "markdown",
   "id": "043fa3b2-8386-4c03-8bec-9129ebb06f42",
   "metadata": {},
   "source": [
    "## Hybrid search pipeline"
   ]
  },
  {
   "cell_type": "code",
   "execution_count": 27,
   "id": "8a9f0c1d-56cc-4e84-9398-15198746fa77",
   "metadata": {},
   "outputs": [],
   "source": [
    "# !wget https://raw.githubusercontent.com/DataTalksClub/llm-zoomcamp/refs/heads/main/05-best-practices/ground-truth-data.csv"
   ]
  },
  {
   "cell_type": "code",
   "execution_count": 30,
   "id": "b9faf578-8fa8-4e7d-ac2e-2ef2c29d43ce",
   "metadata": {},
   "outputs": [
    {
     "data": {
      "text/html": [
       "<div>\n",
       "<style scoped>\n",
       "    .dataframe tbody tr th:only-of-type {\n",
       "        vertical-align: middle;\n",
       "    }\n",
       "\n",
       "    .dataframe tbody tr th {\n",
       "        vertical-align: top;\n",
       "    }\n",
       "\n",
       "    .dataframe thead th {\n",
       "        text-align: right;\n",
       "    }\n",
       "</style>\n",
       "<table border=\"1\" class=\"dataframe\">\n",
       "  <thead>\n",
       "    <tr style=\"text-align: right;\">\n",
       "      <th></th>\n",
       "      <th>question</th>\n",
       "      <th>course</th>\n",
       "      <th>document</th>\n",
       "    </tr>\n",
       "  </thead>\n",
       "  <tbody>\n",
       "    <tr>\n",
       "      <th>0</th>\n",
       "      <td>When does the course begin?</td>\n",
       "      <td>data-engineering-zoomcamp</td>\n",
       "      <td>c02e79ef</td>\n",
       "    </tr>\n",
       "    <tr>\n",
       "      <th>1</th>\n",
       "      <td>How can I get the course schedule?</td>\n",
       "      <td>data-engineering-zoomcamp</td>\n",
       "      <td>c02e79ef</td>\n",
       "    </tr>\n",
       "    <tr>\n",
       "      <th>2</th>\n",
       "      <td>What is the link for course registration?</td>\n",
       "      <td>data-engineering-zoomcamp</td>\n",
       "      <td>c02e79ef</td>\n",
       "    </tr>\n",
       "    <tr>\n",
       "      <th>3</th>\n",
       "      <td>How can I receive course announcements?</td>\n",
       "      <td>data-engineering-zoomcamp</td>\n",
       "      <td>c02e79ef</td>\n",
       "    </tr>\n",
       "    <tr>\n",
       "      <th>4</th>\n",
       "      <td>Where do I join the Slack channel?</td>\n",
       "      <td>data-engineering-zoomcamp</td>\n",
       "      <td>c02e79ef</td>\n",
       "    </tr>\n",
       "  </tbody>\n",
       "</table>\n",
       "</div>"
      ],
      "text/plain": [
       "                                    question                     course  \\\n",
       "0                When does the course begin?  data-engineering-zoomcamp   \n",
       "1         How can I get the course schedule?  data-engineering-zoomcamp   \n",
       "2  What is the link for course registration?  data-engineering-zoomcamp   \n",
       "3    How can I receive course announcements?  data-engineering-zoomcamp   \n",
       "4         Where do I join the Slack channel?  data-engineering-zoomcamp   \n",
       "\n",
       "   document  \n",
       "0  c02e79ef  \n",
       "1  c02e79ef  \n",
       "2  c02e79ef  \n",
       "3  c02e79ef  \n",
       "4  c02e79ef  "
      ]
     },
     "execution_count": 30,
     "metadata": {},
     "output_type": "execute_result"
    }
   ],
   "source": [
    "df_ground_truth = pd.read_csv('ground-truth-data.csv')\n",
    "df_ground_truth.head()"
   ]
  },
  {
   "cell_type": "code",
   "execution_count": 31,
   "id": "4196080e-933c-4729-be99-8316751c5dfa",
   "metadata": {},
   "outputs": [],
   "source": [
    "ground_truth = df_ground_truth.to_dict(orient='records')"
   ]
  },
  {
   "cell_type": "code",
   "execution_count": 32,
   "id": "997e77b0-8f3d-4bba-9a67-10163dec5ec5",
   "metadata": {},
   "outputs": [],
   "source": [
    "def hit_rate(relevance_total):\n",
    "    cnt = 0\n",
    "\n",
    "    for line in relevance_total:\n",
    "        if True in line:\n",
    "            cnt = cnt + 1\n",
    "\n",
    "    return cnt / len(relevance_total)\n"
   ]
  },
  {
   "cell_type": "code",
   "execution_count": 33,
   "id": "14a3a29b-1afd-4c78-bd8e-055bd91fff06",
   "metadata": {},
   "outputs": [],
   "source": [
    "def mrr(relevance_total):\n",
    "    total_score = 0.0\n",
    "\n",
    "    for line in relevance_total:\n",
    "        for rank in range(len(line)):\n",
    "            if line[rank] == True:\n",
    "                total_score = total_score + 1 / (rank + 1)\n",
    "\n",
    "    return total_score / len(relevance_total)\n"
   ]
  },
  {
   "cell_type": "code",
   "execution_count": null,
   "id": "8e9acb67-39ca-4104-8fd4-5276dfdfc92e",
   "metadata": {},
   "outputs": [],
   "source": []
  }
 ],
 "metadata": {
  "kernelspec": {
   "display_name": "Python 3 (ipykernel)",
   "language": "python",
   "name": "python3"
  },
  "language_info": {
   "codemirror_mode": {
    "name": "ipython",
    "version": 3
   },
   "file_extension": ".py",
   "mimetype": "text/x-python",
   "name": "python",
   "nbconvert_exporter": "python",
   "pygments_lexer": "ipython3",
   "version": "3.12.1"
  }
 },
 "nbformat": 4,
 "nbformat_minor": 5
}
