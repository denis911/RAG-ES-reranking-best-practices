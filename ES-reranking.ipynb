{
 "cells": [
  {
   "cell_type": "markdown",
   "id": "8d5e5dd1-5848-4f9b-976e-4abb4b41ec08",
   "metadata": {
    "vscode": {
     "languageId": "plaintext"
    }
   },
   "source": [
    "## Initial setup"
   ]
  },
  {
   "cell_type": "markdown",
   "id": "ecce5ebc-34aa-4e76-8891-b5b05abcec3d",
   "metadata": {},
   "source": [
    "source is https://github.com/DataTalksClub/llm-zoomcamp/tree/main/05-best-practices"
   ]
  },
  {
   "cell_type": "code",
   "execution_count": 3,
   "id": "3b8dcad4-ecc1-4d6a-ac8c-e82fc7ee1931",
   "metadata": {},
   "outputs": [],
   "source": [
    "# We should pull and run a docker container with Elasticsearch 8.9.0 or higher in order to use reranking based on RRF algorithm\n",
    "# run in VS code terminal:\n",
    "'''\n",
    "docker run -it \\\n",
    "    --rm \\\n",
    "    --name elasticsearch \\\n",
    "    -m 4GB \\\n",
    "    -p 9200:9200 \\\n",
    "    -p 9300:9300 \\\n",
    "    -e \"discovery.type=single-node\" \\\n",
    "    -e \"xpack.security.enabled=false\" \\\n",
    "    docker.elastic.co/elasticsearch/elasticsearch:8.9.0\n",
    "''';"
   ]
  },
  {
   "cell_type": "code",
   "execution_count": null,
   "id": "ebc06213-554c-449f-92d3-f64a3b2c533a",
   "metadata": {},
   "outputs": [],
   "source": []
  }
 ],
 "metadata": {
  "kernelspec": {
   "display_name": "Python 3 (ipykernel)",
   "language": "python",
   "name": "python3"
  },
  "language_info": {
   "codemirror_mode": {
    "name": "ipython",
    "version": 3
   },
   "file_extension": ".py",
   "mimetype": "text/x-python",
   "name": "python",
   "nbconvert_exporter": "python",
   "pygments_lexer": "ipython3",
   "version": "3.12.1"
  }
 },
 "nbformat": 4,
 "nbformat_minor": 5
}
